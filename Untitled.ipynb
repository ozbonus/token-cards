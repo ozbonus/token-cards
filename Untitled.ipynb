{
 "cells": [
  {
   "cell_type": "code",
   "execution_count": 72,
   "metadata": {},
   "outputs": [],
   "source": [
    "import sys\n",
    "import os\n",
    "import textstat\n",
    "import numpy as np"
   ]
  },
  {
   "cell_type": "code",
   "execution_count": 68,
   "metadata": {},
   "outputs": [],
   "source": [
    "d = 'data/Abraham Lincoln___The Emancipation Proclamation.txt'"
   ]
  },
  {
   "cell_type": "code",
   "execution_count": 74,
   "metadata": {},
   "outputs": [],
   "source": [
    "from textstat.textstat import textstat"
   ]
  },
  {
   "cell_type": "code",
   "execution_count": 78,
   "metadata": {},
   "outputs": [
    {
     "name": "stdout",
     "output_type": "stream",
     "text": [
      "\n",
      "\n",
      "THE TALE\n",
      "\n",
      "OF\n",
      "\n",
      "PETER RABBIT\n",
      "\n",
      "[Illustration]\n",
      "\n",
      "\n",
      "THE TALE\n",
      "\n",
      "OF\n",
      "\n",
      "PETER RABBIT\n",
      "\n",
      "[Illustration]\n",
      "\n",
      "BEATRIX POTTER\n",
      "\n",
      "Illustrations\n",
      "\n",
      "By\n",
      "\n",
      "Virginia Hibert.\n",
      "\n",
      "AKRON, O.\n",
      "\n",
      "THE SAALFIELD PUBLISHING CO\n",
      "\n",
      "NEW YORK CHICAGO\n",
      "\n",
      "[Illustration:]\n",
      "\n",
      "\n",
      "\n",
      "\n",
      "THE SAALFIELD PUB. Co.\n",
      "\n",
      "1916\n",
      "\n",
      "\n",
      "\n",
      "\n",
      "THE TALE\n",
      "\n",
      "OF\n",
      "\n",
      "PETER RABBIT\n",
      "\n",
      "\n",
      "Once upon a time there were four little rabbits, and their names were\n",
      "Flopsy, Mopsy, Cotton-tail and Peter.\n",
      "\n",
      "[Illustration]\n",
      "\n",
      "They lived with their mother in a sand-bank, underneath the root of a\n",
      "very big fir tree.\n",
      "\n",
      "\"\n",
      "Flesh-Kincaid Reading Ease\n",
      "57.47\n",
      "SMOG Index\n",
      "14.2\n",
      "Flesh-Kincaide Grade\n",
      "14.9\n",
      "Coleman-Liau Index\n",
      "12.89\n",
      "Automated Readability Index\n",
      "22.0\n",
      "Dale-Chall Readability Score\n",
      "6.64\n",
      "Difficult Words\n",
      "69\n",
      "Linsear Write Formula\n",
      "15.0\n",
      "Gunn Fog Index\n",
      "20.25\n",
      "Text Standard\n",
      "14th and 15th grade\n"
     ]
    }
   ],
   "source": [
    "f = 'C:/Users/ozbon/Desktop/TEMP_DATA/Beatrix Potter___The Tale Of Peter Rabbit.txt'\n",
    "\n",
    "with open(f, 'r') as file:\n",
    "    test_data = file.read()\n",
    "    print(test_data[:500])\n",
    "    print(\n",
    "    'Flesh-Kincaid Reading Ease',\n",
    "    textstat.flesch_reading_ease(test_data),\n",
    "    'SMOG Index',\n",
    "    textstat.smog_index(test_data),\n",
    "    'Flesh-Kincaide Grade',\n",
    "    textstat.flesch_kincaid_grade(test_data),\n",
    "    'Coleman-Liau Index',\n",
    "    textstat.coleman_liau_index(test_data),\n",
    "    'Automated Readability Index',\n",
    "    textstat.automated_readability_index(test_data),\n",
    "    'Dale-Chall Readability Score',\n",
    "    textstat.dale_chall_readability_score(test_data),\n",
    "    'Difficult Words',\n",
    "    textstat.difficult_words(test_data),\n",
    "    'Linsear Write Formula',\n",
    "    textstat.linsear_write_formula(test_data),\n",
    "    'Gunn Fog Index',\n",
    "    textstat.gunning_fog(test_data),\n",
    "    'Text Standard',\n",
    "    textstat.text_standard(test_data),\n",
    "    sep='\\n')"
   ]
  },
  {
   "cell_type": "markdown",
   "metadata": {},
   "source": [
    "So I needed a text corpus with readability scores. I found a Python package called `textstat` that looked promising, and a large corpus made from Project Gutenberg texts. Unfortunately, the scores produced seemed nonsensical in a large number of cases. For example, while Jack London's *Call of the Wild* got a Flesch-Kincaid Grade of 8.2, Lyman Frank Baum's *The Wonderful Wizard of Oz* got a startling 174! Either that book is suited only for extraordinarily well-educated people, or there are some bugs to be worked out. Other readability scores produced similarly useless results, and so many books seemed to be affected that even reasonable-looking scores were suspect. So, I dropped the whole approach.\n",
    "\n"
   ]
  }
 ],
 "metadata": {
  "kernelspec": {
   "display_name": "Python 3",
   "language": "python",
   "name": "python3"
  },
  "language_info": {
   "codemirror_mode": {
    "name": "ipython",
    "version": 3
   },
   "file_extension": ".py",
   "mimetype": "text/x-python",
   "name": "python",
   "nbconvert_exporter": "python",
   "pygments_lexer": "ipython3",
   "version": "3.6.7"
  }
 },
 "nbformat": 4,
 "nbformat_minor": 2
}

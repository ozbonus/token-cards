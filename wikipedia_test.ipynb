{
 "cells": [
  {
   "cell_type": "markdown",
   "metadata": {},
   "source": [
    "# Wikipedia Test"
   ]
  },
  {
   "cell_type": "code",
   "execution_count": 2,
   "metadata": {},
   "outputs": [],
   "source": [
    "import wikipediaapi\n",
    "w = wikipediaapi.Wikipedia('en')"
   ]
  },
  {
   "cell_type": "code",
   "execution_count": 1,
   "metadata": {},
   "outputs": [],
   "source": [
    "import wikipedia"
   ]
  },
  {
   "cell_type": "code",
   "execution_count": 8,
   "metadata": {},
   "outputs": [
    {
     "data": {
      "text/plain": [
       "'Dragon Bones (See novel)'"
      ]
     },
     "execution_count": 8,
     "metadata": {},
     "output_type": "execute_result"
    }
   ],
   "source": [
    "wikipedia.random()"
   ]
  },
  {
   "cell_type": "code",
   "execution_count": 27,
   "metadata": {},
   "outputs": [],
   "source": [
    "import textstat"
   ]
  },
  {
   "cell_type": "code",
   "execution_count": 35,
   "metadata": {},
   "outputs": [
    {
     "name": "stdout",
     "output_type": "stream",
     "text": [
      "Electric Laser\n",
      "Electric Laser is a studio album by Los Angeles hip hop group Giant Panda. It was released on May 6,\n",
      "17.2\n"
     ]
    }
   ],
   "source": [
    "ran_page = wikipedia.random()\n",
    "content = wikipedia.page(ran_page).content\n",
    "grade_level = textstat.automated_readability_index(content)\n",
    "\n",
    "print(ran_page)\n",
    "print(content[:100])\n",
    "print(grade_level)"
   ]
  },
  {
   "cell_type": "code",
   "execution_count": 49,
   "metadata": {},
   "outputs": [
    {
     "name": "stdout",
     "output_type": "stream",
     "text": [
      "Colour (film)\n",
      "https://en.wikipedia.org/wiki/Color_photography\n",
      "Color (or colour) photography is photography that uses media capable of reproducing colors. By contrast, black-and-white (monochrome) photography records only a single channel of luminance (brightness) and uses media capable only of showing shades of gray.\n",
      "In color photography, electronic sensors or light-sensitive chemicals record color information at the time of exposure. This is usually done by analyzing the spectrum of colors into three channels of information, one dominated by red, another by green and the third by blue, in imitation of the way the normal human eye senses color. The recorded information is then used to reproduce the original colors by mixing various proportions of red, green and blue light (RGB color, used by video displays, digital projectors and some historical photographic processes), or by using dyes or pigments to remove various proportions of the red, green and blue which are present in white light (CMY color, used for prints on paper and transparencies on film).\n",
      "Monochrome images which have been \"colorized\" by tinting selected areas by hand or mechanically or with the aid of a computer are \"colored photographs\", not \"color photographs\". Their colors are not dependent on the actual colors of the objects photographed and may be very inaccurate or completely arbitrary.\n",
      "The foundation of virtually all practical color processes, the three-color method was first suggested in an 1855 paper by Scottish physicist James Clerk Maxwell, with the first color photograph produced by Thomas Sutton for a Maxwell lecture in 1861.  Color photography has been the dominant form of photography since the 1970s, with monochrome photography mostly relegated to niche markets such as art photography.\n",
      "\n",
      "\n",
      "== History ==\n",
      "\n",
      "\n",
      "=== Early experiments ===\n",
      "Colour photography was attempted beginning in the 1840s. Early experiments were directed at finding a \"chameleon substance\" which would assume the colour of the light falling on it. Some encouraging early results, typically obtained by projecting a solar spectrum directly onto the sensitive surface, seemed to promise eventual success, but the comparatively dim image formed in a camera required exposures lasting for hours or even days. The quality and range of the colour was sometimes severely limited mainly to primary colours, as in the chemically complicated \"Hillotype\" process invented by American daguerreotypist Levi Hill around 1850. Other experimenters, such as Edmond Becquerel, achieved better results but could find no way to prevent the colours from quickly fading when the images were exposed to light for viewing. Over the following several decades, renewed experiments along these lines periodically raised hopes and then dashed them, yielding nothing of practical value.\n",
      "\n",
      "\n",
      "=== An entirely different approach to color ===\n",
      "Gabriel Lippmann is remembered as the inventor of a method for reproducing colors by photography, based on the interference phenomenon, which earned him the Nobel Prize in Physics for 1908.In 1886 Lippmann's interest had turned to a method of fixing the colors of the solar spectrum on a photographic plate. On 2 February 1891, he announced to the Academy of Sciences: \"I have succeeded in obtaining the image of the spectrum with its colors on a photographic plate whereby the image remains fixed and can remain in daylight without deterioration.\" By April 1892, he was able to report that he had succeeded in producing color images of a stained glass window, a group of flags, a bowl of oranges topped by a red poppy and a multicolored parrot. He presented his theory of color photography using the interference method in two papers to the Academy, one in 1894, the other in 1906.\n",
      "\n",
      "\n",
      "=== Three-color processes ===\n",
      "The three-color method, which is the foundation of virtually all practical color processes whether chemical or electronic, was first suggested in an 1855 paper on color vision by Scottish physicist James Clerk Maxwell.It is based on the Young-Helmholtz theory that the normal human eye sees color because its inner surface is covered with millions of intermingled cone cells of three types: in theory, one type is most sensitive to the end of the spectrum we call \"red\", another is more sensitive to the middle or \"green\" region, and a third which is most strongly stimulated by \"blue\". The named colors are somewhat arbitrary divisions imposed on the continuous spectrum of visible light, and the theory is not an entirely accurate description of cone sensitivity. But the simple description of these three colors coincides enough with the sensations experienced by the eye that when these three colors are used the three cones types are adequately and unequally stimulated to form the illusion of various intermediate wavelengths of light.\n",
      "In his studies of color vision, Maxwell showed, by using a rotating disk with which he could alter the proportions, that any visible hue or gray tone could be made by mixing only three pure colors of light – red, green and bl\n",
      "18.0\n"
     ]
    }
   ],
   "source": [
    "import random\n",
    "\n",
    "def test_wiki():\n",
    "    ran_page = wikipedia.random()\n",
    "    page = wikipedia.page(ran_page)\n",
    "    try:\n",
    "        content = page.content\n",
    "    except wikipedia.DisambiguationError as e:\n",
    "        print(e)\n",
    "        content = wikipedia.page(random.choice(e.options)).content\n",
    "    if len(content) > 5000:\n",
    "        print(ran_page)\n",
    "        print(page.url)\n",
    "        print(content[:5000])\n",
    "        print(textstat.automated_readability_index(content))\n",
    "    else:\n",
    "        test_wiki()\n",
    "\n",
    "test_wiki()"
   ]
  }
 ],
 "metadata": {
  "kernelspec": {
   "display_name": "Python 3",
   "language": "python",
   "name": "python3"
  },
  "language_info": {
   "codemirror_mode": {
    "name": "ipython",
    "version": 3
   },
   "file_extension": ".py",
   "mimetype": "text/x-python",
   "name": "python",
   "nbconvert_exporter": "python",
   "pygments_lexer": "ipython3",
   "version": "3.6.7"
  }
 },
 "nbformat": 4,
 "nbformat_minor": 2
}
